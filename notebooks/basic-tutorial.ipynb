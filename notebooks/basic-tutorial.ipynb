{
 "cells": [
  {
   "cell_type": "code",
   "execution_count": 12,
   "metadata": {},
   "outputs": [
    {
     "name": "stdout",
     "output_type": "stream",
     "text": [
      "Requirement already satisfied: autobotlib==0.24 in /home/blazs/miniconda3/envs/autobot/lib/python3.8/site-packages (0.24)\n",
      "Requirement already satisfied: urllib3==1.26.3 in /home/blazs/miniconda3/envs/autobot/lib/python3.8/site-packages (from autobotlib==0.24) (1.26.3)\n",
      "Requirement already satisfied: chardet==4.0.0 in /home/blazs/miniconda3/envs/autobot/lib/python3.8/site-packages (from autobotlib==0.24) (4.0.0)\n",
      "Requirement already satisfied: py==1.10.0 in /home/blazs/miniconda3/envs/autobot/lib/python3.8/site-packages (from autobotlib==0.24) (1.10.0)\n",
      "Requirement already satisfied: alabaster==0.7.12 in /home/blazs/miniconda3/envs/autobot/lib/python3.8/site-packages (from autobotlib==0.24) (0.7.12)\n",
      "Requirement already satisfied: six==1.15.0 in /home/blazs/miniconda3/envs/autobot/lib/python3.8/site-packages (from autobotlib==0.24) (1.15.0)\n",
      "Requirement already satisfied: Sphinx==3.4.3 in /home/blazs/miniconda3/envs/autobot/lib/python3.8/site-packages (from autobotlib==0.24) (3.4.3)\n",
      "Requirement already satisfied: smart-open==4.1.2 in /home/blazs/miniconda3/envs/autobot/lib/python3.8/site-packages (from autobotlib==0.24) (4.1.2)\n",
      "Requirement already satisfied: termcolor==1.1.0 in /home/blazs/miniconda3/envs/autobot/lib/python3.8/site-packages (from autobotlib==0.24) (1.1.0)\n",
      "Requirement already satisfied: Babel==2.9.0 in /home/blazs/miniconda3/envs/autobot/lib/python3.8/site-packages (from autobotlib==0.24) (2.9.0)\n",
      "Requirement already satisfied: Pygments==2.7.4 in /home/blazs/miniconda3/envs/autobot/lib/python3.8/site-packages (from autobotlib==0.24) (2.7.4)\n",
      "Requirement already satisfied: pytz==2021.1 in /home/blazs/miniconda3/envs/autobot/lib/python3.8/site-packages (from autobotlib==0.24) (2021.1)\n",
      "Requirement already satisfied: imagesize==1.2.0 in /home/blazs/miniconda3/envs/autobot/lib/python3.8/site-packages (from autobotlib==0.24) (1.2.0)\n",
      "Requirement already satisfied: autoflake==1.4 in /home/blazs/miniconda3/envs/autobot/lib/python3.8/site-packages/autoflake-1.4-py3.8.egg (from autobotlib==0.24) (1.4)\n",
      "Requirement already satisfied: seaborn==0.11.1 in /home/blazs/miniconda3/envs/autobot/lib/python3.8/site-packages/seaborn-0.11.1-py3.8.egg (from autobotlib==0.24) (0.11.1)\n",
      "Requirement already satisfied: sphinxcontrib-applehelp==1.0.2 in /home/blazs/miniconda3/envs/autobot/lib/python3.8/site-packages (from autobotlib==0.24) (1.0.2)\n",
      "Requirement already satisfied: snowballstemmer==2.1.0 in /home/blazs/miniconda3/envs/autobot/lib/python3.8/site-packages (from autobotlib==0.24) (2.1.0)\n",
      "Requirement already satisfied: numpy==1.20.1 in /home/blazs/miniconda3/envs/autobot/lib/python3.8/site-packages (from autobotlib==0.24) (1.20.1)\n",
      "Requirement already satisfied: pytest==6.2.3 in /home/blazs/miniconda3/envs/autobot/lib/python3.8/site-packages (from autobotlib==0.24) (6.2.3)\n",
      "Requirement already satisfied: requests==2.25.1 in /home/blazs/miniconda3/envs/autobot/lib/python3.8/site-packages (from autobotlib==0.24) (2.25.1)\n",
      "Requirement already satisfied: sphinxcontrib-jsmath==1.0.1 in /home/blazs/miniconda3/envs/autobot/lib/python3.8/site-packages (from autobotlib==0.24) (1.0.1)\n",
      "Requirement already satisfied: packaging==20.9 in /home/blazs/miniconda3/envs/autobot/lib/python3.8/site-packages (from autobotlib==0.24) (20.9)\n",
      "Requirement already satisfied: regex==2020.11.13 in /home/blazs/miniconda3/envs/autobot/lib/python3.8/site-packages (from autobotlib==0.24) (2020.11.13)\n",
      "Requirement already satisfied: sphinxcontrib-qthelp==1.0.3 in /home/blazs/miniconda3/envs/autobot/lib/python3.8/site-packages (from autobotlib==0.24) (1.0.3)\n",
      "Requirement already satisfied: nltk==3.5 in /home/blazs/miniconda3/envs/autobot/lib/python3.8/site-packages/nltk-3.5-py3.8.egg (from autobotlib==0.24) (3.5)\n",
      "Requirement already satisfied: pandas==1.2.2 in /home/blazs/miniconda3/envs/autobot/lib/python3.8/site-packages (from autobotlib==0.24) (1.2.2)\n",
      "Requirement already satisfied: pyflakes==2.2.0 in /home/blazs/miniconda3/envs/autobot/lib/python3.8/site-packages (from autobotlib==0.24) (2.2.0)\n",
      "Requirement already satisfied: gensim==3.8.3 in /home/blazs/miniconda3/envs/autobot/lib/python3.8/site-packages/gensim-3.8.3-py3.8-linux-x86_64.egg (from autobotlib==0.24) (3.8.3)\n",
      "Requirement already satisfied: scikit-learn==0.24.1 in /home/blazs/miniconda3/envs/autobot/lib/python3.8/site-packages/scikit_learn-0.24.1-py3.8-linux-x86_64.egg (from autobotlib==0.24) (0.24.1)\n",
      "Requirement already satisfied: scipy==1.6.0 in /home/blazs/miniconda3/envs/autobot/lib/python3.8/site-packages (from autobotlib==0.24) (1.6.0)\n",
      "Requirement already satisfied: docutils==0.16 in /home/blazs/miniconda3/envs/autobot/lib/python3.8/site-packages (from autobotlib==0.24) (0.16)\n",
      "Requirement already satisfied: sphinxcontrib-serializinghtml==1.1.4 in /home/blazs/miniconda3/envs/autobot/lib/python3.8/site-packages (from autobotlib==0.24) (1.1.4)\n",
      "Requirement already satisfied: MarkupSafe==1.1.1 in /home/blazs/miniconda3/envs/autobot/lib/python3.8/site-packages (from autobotlib==0.24) (1.1.1)\n",
      "Requirement already satisfied: sklearn==0.0 in /home/blazs/miniconda3/envs/autobot/lib/python3.8/site-packages/sklearn-0.0-py3.8.egg (from autobotlib==0.24) (0.0)\n",
      "Requirement already satisfied: wget==3.2 in /home/blazs/miniconda3/envs/autobot/lib/python3.8/site-packages (from autobotlib==0.24) (3.2)\n",
      "Requirement already satisfied: sphinx-rtd-theme==0.5.1 in /home/blazs/miniconda3/envs/autobot/lib/python3.8/site-packages/sphinx_rtd_theme-0.5.1-py3.8.egg (from autobotlib==0.24) (0.5.1)\n",
      "Requirement already satisfied: pluggy==0.13.1 in /home/blazs/miniconda3/envs/autobot/lib/python3.8/site-packages (from autobotlib==0.24) (0.13.1)\n",
      "Requirement already satisfied: toml==0.10.2 in /home/blazs/miniconda3/envs/autobot/lib/python3.8/site-packages (from autobotlib==0.24) (0.10.2)\n",
      "Requirement already satisfied: Pillow==8.1.0 in /home/blazs/miniconda3/envs/autobot/lib/python3.8/site-packages (from autobotlib==0.24) (8.1.0)\n",
      "Requirement already satisfied: pyparsing==2.4.7 in /home/blazs/miniconda3/envs/autobot/lib/python3.8/site-packages (from autobotlib==0.24) (2.4.7)\n",
      "Requirement already satisfied: deap==1.3.1 in /home/blazs/miniconda3/envs/autobot/lib/python3.8/site-packages/deap-1.3.1-py3.8-linux-x86_64.egg (from autobotlib==0.24) (1.3.1)\n",
      "Requirement already satisfied: threadpoolctl==2.1.0 in /home/blazs/miniconda3/envs/autobot/lib/python3.8/site-packages/threadpoolctl-2.1.0-py3.8.egg (from autobotlib==0.24) (2.1.0)\n",
      "Requirement already satisfied: sphinxcontrib-htmlhelp==1.0.3 in /home/blazs/miniconda3/envs/autobot/lib/python3.8/site-packages (from autobotlib==0.24) (1.0.3)\n",
      "Requirement already satisfied: networkx==2.5 in /home/blazs/miniconda3/envs/autobot/lib/python3.8/site-packages/networkx-2.5-py3.8.egg (from autobotlib==0.24) (2.5)\n",
      "Requirement already satisfied: editdistance==0.5.3 in /home/blazs/miniconda3/envs/autobot/lib/python3.8/site-packages/editdistance-0.5.3-py3.8-linux-x86_64.egg (from autobotlib==0.24) (0.5.3)\n",
      "Requirement already satisfied: Jinja2==2.11.3 in /home/blazs/miniconda3/envs/autobot/lib/python3.8/site-packages (from autobotlib==0.24) (2.11.3)\n",
      "Requirement already satisfied: click==7.1.2 in /home/blazs/miniconda3/envs/autobot/lib/python3.8/site-packages (from autobotlib==0.24) (7.1.2)\n",
      "Requirement already satisfied: sphinxcontrib-devhelp==1.0.2 in /home/blazs/miniconda3/envs/autobot/lib/python3.8/site-packages (from autobotlib==0.24) (1.0.2)\n",
      "Requirement already satisfied: kiwisolver==1.3.1 in /home/blazs/miniconda3/envs/autobot/lib/python3.8/site-packages (from autobotlib==0.24) (1.3.1)\n",
      "Requirement already satisfied: certifi==2020.12.5 in /home/blazs/miniconda3/envs/autobot/lib/python3.8/site-packages (from autobotlib==0.24) (2020.12.5)\n",
      "Requirement already satisfied: matplotlib==3.3.4 in /home/blazs/miniconda3/envs/autobot/lib/python3.8/site-packages (from autobotlib==0.24) (3.3.4)\n",
      "Requirement already satisfied: tqdm==4.56.0 in /home/blazs/miniconda3/envs/autobot/lib/python3.8/site-packages (from autobotlib==0.24) (4.56.0)\n",
      "Requirement already satisfied: pytest-sugar==0.9.4 in /home/blazs/miniconda3/envs/autobot/lib/python3.8/site-packages (from autobotlib==0.24) (0.9.4)\n",
      "Requirement already satisfied: idna==2.10 in /home/blazs/miniconda3/envs/autobot/lib/python3.8/site-packages (from autobotlib==0.24) (2.10)\n",
      "Requirement already satisfied: joblib==1.0.1 in /home/blazs/miniconda3/envs/autobot/lib/python3.8/site-packages (from autobotlib==0.24) (1.0.1)\n",
      "Requirement already satisfied: iniconfig==1.1.1 in /home/blazs/miniconda3/envs/autobot/lib/python3.8/site-packages (from autobotlib==0.24) (1.1.1)\n",
      "Requirement already satisfied: decorator==4.4.2 in /home/blazs/miniconda3/envs/autobot/lib/python3.8/site-packages (from autobotlib==0.24) (4.4.2)\n",
      "Requirement already satisfied: python-dateutil==2.8.1 in /home/blazs/miniconda3/envs/autobot/lib/python3.8/site-packages (from autobotlib==0.24) (2.8.1)\n",
      "Requirement already satisfied: yapf==0.30.0 in /home/blazs/miniconda3/envs/autobot/lib/python3.8/site-packages (from autobotlib==0.24) (0.30.0)\n",
      "Requirement already satisfied: cycler==0.10.0 in /home/blazs/miniconda3/envs/autobot/lib/python3.8/site-packages (from autobotlib==0.24) (0.10.0)\n",
      "Requirement already satisfied: attrs==20.3.0 in /home/blazs/miniconda3/envs/autobot/lib/python3.8/site-packages (from autobotlib==0.24) (20.3.0)\n",
      "Requirement already satisfied: dill==0.3.3 in /home/blazs/miniconda3/envs/autobot/lib/python3.8/site-packages (from autobotlib==0.24) (0.3.3)\n"
     ]
    },
    {
     "name": "stdout",
     "output_type": "stream",
     "text": [
      "Requirement already satisfied: setuptools in /home/blazs/miniconda3/envs/autobot/lib/python3.8/site-packages (from Sphinx==3.4.3->autobotlib==0.24) (52.0.0.post20210125)\r\n"
     ]
    }
   ],
   "source": [
    "!pip install autobotlib>=0.24\n",
    "import autoBOTLib\n",
    "import pandas as pd"
   ]
  },
  {
   "cell_type": "markdown",
   "metadata": {},
   "source": [
    "Let's next run the basic model evolution procedure!"
   ]
  },
  {
   "cell_type": "code",
   "execution_count": 13,
   "metadata": {},
   "outputs": [],
   "source": [
    "dataframe = pd.read_csv(\"../data/insults/train.tsv\", sep=\"\\t\")\n",
    "train_sequences = dataframe['text_a'].values.tolist()\n",
    "train_targets = dataframe['label'].values"
   ]
  },
  {
   "cell_type": "markdown",
   "metadata": {},
   "source": [
    "Let's explore the data a bit."
   ]
  },
  {
   "cell_type": "code",
   "execution_count": 14,
   "metadata": {},
   "outputs": [
    {
     "data": {
      "text/plain": [
       "'I  love  Cam  Newton\\'s  upside,  and  think  he\\'ll  be  an  All-Pro  caliber  QB,  but  21  TD\\'s  and  17  Interceptions  and  NFL  Network  has  him  as  the  10th  best  Heisman  Winner  to  play  in  The  NFL.    Tebow  was  also  on  that  list.    ESPN  had  a  problem  with  Tebow  but  never  mentioned  how  stupid  it  was  that  a  guy  who  had  a  decent\"  year  throwing  the  ball,  for  a  bad  team  is  suddenly  on  a  list  that  Tim  Brown  is  not  on.    I\\'m  so  tired  of  ESPN  hyping  things  up  and  blowing  them  way  out  of  proportion,  for  better  or  worse.\"'"
      ]
     },
     "execution_count": 14,
     "metadata": {},
     "output_type": "execute_result"
    }
   ],
   "source": [
    "train_sequences[4]"
   ]
  },
  {
   "cell_type": "code",
   "execution_count": 15,
   "metadata": {},
   "outputs": [
    {
     "data": {
      "text/plain": [
       "0"
      ]
     },
     "execution_count": 15,
     "metadata": {},
     "output_type": "execute_result"
    }
   ],
   "source": [
    "train_targets[4] ## This is not an insult apparently."
   ]
  },
  {
   "cell_type": "markdown",
   "metadata": {},
   "source": [
    "Run the autoBOT learning/evolution procedure next."
   ]
  },
  {
   "cell_type": "code",
   "execution_count": null,
   "metadata": {},
   "outputs": [
    {
     "name": "stderr",
     "output_type": "stream",
     "text": [
      "04-May-21 07:03:15 - Instantiated the evolution-based learner.\n",
      "04-May-21 07:03:15 - Using 12 cores.\n",
      "04-May-21 07:03:15 - Computing the seed dataframe ..\n"
     ]
    },
    {
     "name": "stdout",
     "output_type": "stream",
     "text": [
      "\n",
      "\n",
      "      MMMMMMMMMMMMMMMMMMMMMMMMMMMMMMMMMMMMMMMMMMMMMMMMMMMMMMMMMMMMMMMMMMMMMM\n",
      "      MMMMMMMMMMMMMMMMMMMMMMMMMMMMMMMMMMMMMMMMMMMMMMMMMMMMMMMMMMMMMMMMMMMWWM\n",
      "      WWMMMMMMMMMMMMMMMMMMMMMMMMMMMMMMMMMMMMMMMMMMMMMMMMMMMMMMMMMMMMMMMMWWWM\n",
      "      xokKNMMMMMMMMMMMMMMMMMMMMMMMMMMMMMMMMMMMMMMMMMMMMMMMMMMMMMWWMMMMMMMMMM\n",
      "      l'';cdOKNMMMMMMMMMMMMMMMMMMMMMMMMMMMMMMMMMMMMMMMMMMMMMMMMWNNMMMMMMMMMM\n",
      "      d'.''',;ldOXWMMMMMMMMMMMMMMMMMMMMMMMMMMMMMMMMMMMMMMMMMMMMMMMMMMMMMMMMM\n",
      "      x'...''''',c0MMMMMMMMMMMMMMMMMMMMMMMMMMMMMMWWMMMWXXMMMMMMMWWMMMMMMMMMM\n",
      "      k,....''''';kWMMMMMMMMMMMMMMMMMMMMMMMWNXWMN00NMMXk0NMMMMWXKNMMMMMMMMMM\n",
      "      0;......''';kWNK00000OOOOOOOOOOOKNXK0xx0WN0kONMWX00NMMMMN00XMMMMMWNNMM\n",
      "      K:........';OWx;;;;;;;;;;:::::ccldxxxxk0NNXXNWMMMMMMMMMMMWNWMMMMMWNNMM\n",
      "      Xc.........;OWx,',,,,,;;;;;:::::ccoxkOxdkKkxk0NWMMMMMMMMMMMMMMMMMMMMMM\n",
      "      Nl.........,OWk,''',,,,,;;;;;::::lxkkkOOKNK0KXX00NMMMWWMMMMMMMMMMMMMMM\n",
      "      Wd.........,OWk,''''',,,,,;;;;;::oddllx0KKNMWKxoxKMMWKKWMMMMMMMMMMMMMM\n",
      "      Wx.........,OMXxc;''''',,,,,;;;;:okkk0NN0xx0NN0OKWMMNkONMMWXNMMMMMMMMM\n",
      "      MO'........,OMMWWKkoc,''',,,,,;;cddld0N00NXOkKNNWMMMWXKNMWKk0WMMMMMMMM\n",
      "      M0, .......,OWOkXWMMN0ko:,,,,,,,;cox0Kxcl0XkoxOXWMMMMMMMMWNXXWMMMMMMMM\n",
      "      MK;   .....,ONo.;dKWMMMWX0xl:,,,;oOKX0xddk00KNMMMMWWMMMMMMMMMMWNWMMMMM\n",
      "      MXc     ...'ONl...,lONMMMMMWXOddkOxxkKX0xooONMMMWKxkNMMMMMMMMN0OXMMMMM\n",
      "      MNl.      .'ONl.....'ckXWMMMMMMWWWNNNWWMWXXWMMMWKdcdXMMMMMMMMWNNWMMMMM\n",
      "      MWd.       'ONl........;dKWMMMMMMMMMMMMMMMMMMMMWKkx0WMMNKXMMMMMMMMMMMM\n",
      "      MMx.       'OWOoc;'......,oONMMMMMMMMMWWMW00NWMMMMMMMMW0dxKWMMMMMMMMMM\n",
      "      MMO.      .;0MMWWNX0kxoc:,',ckXWMMMMWKdlxKOllxKWMWWMMMWXKXNWMMMMMMMMMM\n",
      "      MM0,    .:xKWMNkdx0XWMMWNXKOxdkKWMWWXkkO0XNK00XWWOkNMMMMMMMMMMMMMMMMMM\n",
      "      MMX; 'cxKWN0x0WKc..';ldk0XWMMMWWWMMMMMMMMMMMMMMNk:lKMMN0kOKWMMMMMMMMMM\n",
      "      MMWOOXWN0d;. 'dNXo.  ....,:ldkKXWWXXKO0KXNMMMMMNOxd0WMWOcoKMMMMMMMMMMM\n",
      "      MMMMW0d;.     .:0Nx'.  .......';oxc,:oxl:OXOkOOXWMWWMMMN0KWMMMMMMMMMMM\n",
      "      MMMW0c.         'xXO,.  .........:ooloxxclkl,cxXWMN0KWMMMMMMMMMMMMMMMM\n",
      "      MMMMMNKxl,.      .cK0:.   .......:lc,.cxodOOkXWMMNkccdKWMMMMMMMMMMMMMM\n",
      "      MMMMMMMMMNKxl;.    ,k0l.    .....'okdodlcxKWWWMMMWNXK00NMMMMMMMMMMMMMM\n",
      "      MMMMMMMMMMMMMWKkl;. .l0d.     ...:k0xclONWNkldONMMMMMMMMMMMMMMMMMMMMMM\n",
      "      MMMMMMMMMMMMMMMMMWKkl:lkx,.    ..:x0d:ckNNOdx0NWMMMMMMMMMMMMMMMMMMMMMM\n",
      "      MMMMMMMMMMMMMMMMMMMMMN0OXO:,,,;;o0K0kocdXNNWMMMMMMMMMMMMMMMMMMMMMMMMMM\n",
      "        \n"
     ]
    },
    {
     "name": "stderr",
     "output_type": "stream",
     "text": [
      "100%|██████████| 120/120 [00:01<00:00, 104.69it/s]\n",
      "04-May-21 07:03:16 - Attempting to download the knowledge graph. Folder: memory\n",
      "04-May-21 07:03:16 - Memory (ConceptNet) not found! Downloading into ./memory folder. Please wait a few minutes (a few hundred MB is being downloaded).\n"
     ]
    }
   ],
   "source": [
    "autoBOTLibObj = autoBOTLib.GAlearner(train_sequences,\n",
    "                                         train_targets,\n",
    "                                         n_fold_cv = 3,\n",
    "                                         time_constraint=0.1).evolve()"
   ]
  },
  {
   "cell_type": "markdown",
   "metadata": {},
   "source": [
    "Perform predictions if needed."
   ]
  },
  {
   "cell_type": "code",
   "execution_count": null,
   "metadata": {},
   "outputs": [],
   "source": [
    "dataframe2 = pd.read_csv(\"../data/insults/test.tsv\", sep=\"\\t\")\n",
    "test_sequences = dataframe2['text_a'].values.tolist()\n",
    "predictions = autoBOTLibObj.predict(test_sequences)"
   ]
  }
 ],
 "metadata": {
  "kernelspec": {
   "display_name": "Python 3",
   "language": "python",
   "name": "python3"
  },
  "language_info": {
   "codemirror_mode": {
    "name": "ipython",
    "version": 3
   },
   "file_extension": ".py",
   "mimetype": "text/x-python",
   "name": "python",
   "nbconvert_exporter": "python",
   "pygments_lexer": "ipython3",
   "version": "3.8.5"
  }
 },
 "nbformat": 4,
 "nbformat_minor": 4
}
